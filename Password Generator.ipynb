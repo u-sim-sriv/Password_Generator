{
 "cells": [
  {
   "cell_type": "code",
   "execution_count": 4,
   "id": "fa399642",
   "metadata": {},
   "outputs": [
    {
     "name": "stdout",
     "output_type": "stream",
     "text": [
      "wdVD9j8F*d5i\n"
     ]
    }
   ],
   "source": [
    "import secrets\n",
    "import string\n",
    "\n",
    "\n",
    "def create_pw(pw_length=12):\n",
    "   letters = string.ascii_letters\n",
    "   digits = string.digits\n",
    "   special_chars = string.punctuation\n",
    "\n",
    "   alphabet = letters + digits + special_chars\n",
    "   pwd = ''\n",
    "   pw_strong = False\n",
    "\n",
    "   while not pw_strong:\n",
    "       pwd = ''\n",
    "       for i in range(pw_length):\n",
    "           pwd += ''.join(secrets.choice(alphabet))\n",
    "\n",
    "       if (any(char in special_chars for char in pwd) and\n",
    "               sum(char in digits for char in pwd) >= 2):\n",
    "           pw_strong = True\n",
    "\n",
    "   return pwd\n",
    "\n",
    "\n",
    "if __name__ == '__main__':\n",
    "   print(create_pw())"
   ]
  },
  {
   "cell_type": "code",
   "execution_count": null,
   "id": "435f6d72",
   "metadata": {},
   "outputs": [],
   "source": []
  },
  {
   "cell_type": "code",
   "execution_count": null,
   "id": "a29fe8db",
   "metadata": {},
   "outputs": [],
   "source": []
  }
 ],
 "metadata": {
  "kernelspec": {
   "display_name": "Python 3 (ipykernel)",
   "language": "python",
   "name": "python3"
  },
  "language_info": {
   "codemirror_mode": {
    "name": "ipython",
    "version": 3
   },
   "file_extension": ".py",
   "mimetype": "text/x-python",
   "name": "python",
   "nbconvert_exporter": "python",
   "pygments_lexer": "ipython3",
   "version": "3.11.5"
  }
 },
 "nbformat": 4,
 "nbformat_minor": 5
}
